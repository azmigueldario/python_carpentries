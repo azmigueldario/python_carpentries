{
 "cells": [
  {
   "cell_type": "markdown",
   "id": "48ce32a0-d443-4d4e-9311-7734f6976ed5",
   "metadata": {},
   "source": [
    "# Intro to Python III - Carpentries\n",
    "\n",
    "## Defensive programming \n",
    "\n",
    "**How to make programs more reliable?**\n",
    "\n",
    "- Make programs that check their own operation\n",
    "    - Sanity checks\n",
    "- Run and write tests for widely used functions\n",
    "- Define what correct means and what is expected\n",
    "\n"
   ]
  },
  {
   "cell_type": "markdown",
   "id": "fd0d4a8e-9ccf-44de-99d8-016715793a54",
   "metadata": {},
   "source": [
    "### Assertions\n",
    "\n",
    "If we expect mistakes while running and add safeguards against this common expected mistakes, we are doing **Defensive Programming**. \n",
    "\n",
    "An assertion is a statement that something must be true at a certain point in the program. If it is **False**, Python halts the execution of the function and returns an error message (can be automated).\n",
    "\n",
    "Assertions are also reported as a traceback. "
   ]
  },
  {
   "cell_type": "code",
   "execution_count": 3,
   "id": "b587dd8f-142c-4838-82d1-42d2e81f5624",
   "metadata": {},
   "outputs": [
    {
     "ename": "AssertionError",
     "evalue": "Data should be a positive value",
     "output_type": "error",
     "traceback": [
      "\u001b[0;31m---------------------------------------------------------------------------\u001b[0m",
      "\u001b[0;31mAssertionError\u001b[0m                            Traceback (most recent call last)",
      "Cell \u001b[0;32mIn [3], line 4\u001b[0m\n\u001b[1;32m      2\u001b[0m total \u001b[38;5;241m=\u001b[39m \u001b[38;5;241m0\u001b[39m\n\u001b[1;32m      3\u001b[0m \u001b[38;5;28;01mfor\u001b[39;00m num \u001b[38;5;129;01min\u001b[39;00m numbers:\n\u001b[0;32m----> 4\u001b[0m     \u001b[38;5;28;01massert\u001b[39;00m num \u001b[38;5;241m>\u001b[39m\u001b[38;5;241m=\u001b[39m \u001b[38;5;241m0.0\u001b[39m, \u001b[38;5;124m'\u001b[39m\u001b[38;5;124mData should be a positive value\u001b[39m\u001b[38;5;124m'\u001b[39m\n\u001b[1;32m      5\u001b[0m     total \u001b[38;5;241m+\u001b[39m\u001b[38;5;241m=\u001b[39m num\n\u001b[1;32m      6\u001b[0m \u001b[38;5;28mprint\u001b[39m (total)\n",
      "\u001b[0;31mAssertionError\u001b[0m: Data should be a positive value"
     ]
    }
   ],
   "source": [
    "numbers = [1.5, 2.3, 0.7, -0.00001, 4.4]\n",
    "total = 0\n",
    "for num in numbers:\n",
    "    assert num >= 0.0, 'Data should be a positive value'\n",
    "    total += num\n",
    "print (total)"
   ]
  },
  {
   "cell_type": "markdown",
   "id": "fdca949e-56c6-4b8f-bac8-b0a1f408d771",
   "metadata": {},
   "source": [
    "Assertions fall into three categories:\n",
    "- **Precondition**, something that must be true at the start of a function in order to function correctly\n",
    "- **Postcondition**, something the function guarantees is true after it finishes running\n",
    "- **Invariant**, something that is always true at a particular point inside the execution of the function"
   ]
  },
  {
   "cell_type": "code",
   "execution_count": null,
   "id": "246fbd37-dc7c-4908-a876-a294a40b82ac",
   "metadata": {},
   "outputs": [],
   "source": []
  },
  {
   "cell_type": "code",
   "execution_count": null,
   "id": "95bd7994-3899-4ce0-9be9-6e44ae5c2529",
   "metadata": {},
   "outputs": [],
   "source": []
  },
  {
   "cell_type": "code",
   "execution_count": null,
   "id": "8375623c-0d53-4956-b3ee-9464ffaf3f75",
   "metadata": {},
   "outputs": [],
   "source": []
  },
  {
   "cell_type": "code",
   "execution_count": null,
   "id": "ecb37d12-6c7d-49bb-b268-494e701edb83",
   "metadata": {},
   "outputs": [],
   "source": []
  },
  {
   "cell_type": "code",
   "execution_count": null,
   "id": "14214544-2d69-42fa-9ec3-d63545f2cf6b",
   "metadata": {},
   "outputs": [],
   "source": []
  },
  {
   "cell_type": "code",
   "execution_count": null,
   "id": "8a75c1b1-f03d-4042-9cc9-0905692fd418",
   "metadata": {},
   "outputs": [],
   "source": []
  },
  {
   "cell_type": "code",
   "execution_count": null,
   "id": "2ea028f3-45d9-4a39-afef-1265511ba07d",
   "metadata": {},
   "outputs": [],
   "source": []
  },
  {
   "cell_type": "code",
   "execution_count": null,
   "id": "bc792f57-58ad-407f-ab75-9742f06e841f",
   "metadata": {},
   "outputs": [],
   "source": []
  },
  {
   "cell_type": "code",
   "execution_count": null,
   "id": "c20a0511-8e54-4d5a-a859-1ef03e63f346",
   "metadata": {},
   "outputs": [],
   "source": []
  },
  {
   "cell_type": "code",
   "execution_count": null,
   "id": "6ef16dae-feda-48d2-9463-5f09bfca63b3",
   "metadata": {},
   "outputs": [],
   "source": []
  },
  {
   "cell_type": "code",
   "execution_count": null,
   "id": "b392b2ce-56d4-4f37-86ec-7d51c68ca1d0",
   "metadata": {},
   "outputs": [],
   "source": []
  },
  {
   "cell_type": "code",
   "execution_count": null,
   "id": "f979aa04-3d58-4419-871d-29ce1d52c1ca",
   "metadata": {},
   "outputs": [],
   "source": []
  },
  {
   "cell_type": "code",
   "execution_count": null,
   "id": "a2da2438-528c-4c47-81c0-fb892b402720",
   "metadata": {},
   "outputs": [],
   "source": []
  },
  {
   "cell_type": "code",
   "execution_count": null,
   "id": "d487c233-259d-4094-b462-9f4781dd5f03",
   "metadata": {},
   "outputs": [],
   "source": []
  },
  {
   "cell_type": "code",
   "execution_count": null,
   "id": "9c2cd5f5-7c28-438b-9c14-ea4a40f5cc0b",
   "metadata": {},
   "outputs": [],
   "source": []
  }
 ],
 "metadata": {
  "kernelspec": {
   "display_name": "Python 3 (ipykernel)",
   "language": "python",
   "name": "python3"
  },
  "language_info": {
   "codemirror_mode": {
    "name": "ipython",
    "version": 3
   },
   "file_extension": ".py",
   "mimetype": "text/x-python",
   "name": "python",
   "nbconvert_exporter": "python",
   "pygments_lexer": "ipython3",
   "version": "3.11.0"
  }
 },
 "nbformat": 4,
 "nbformat_minor": 5
}
